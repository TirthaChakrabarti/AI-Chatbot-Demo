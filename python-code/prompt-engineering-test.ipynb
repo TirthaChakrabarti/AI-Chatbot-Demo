{
 "cells": [
  {
   "cell_type": "code",
   "execution_count": 1,
   "id": "48d85968",
   "metadata": {},
   "outputs": [
    {
     "data": {
      "text/plain": [
       "True"
      ]
     },
     "execution_count": 1,
     "metadata": {},
     "output_type": "execute_result"
    }
   ],
   "source": [
    "from openai import OpenAI\n",
    "# import openai\n",
    "import os\n",
    "import json\n",
    "from sklearn.metrics.pairwise import cosine_similarity\n",
    "from dotenv import load_dotenv\n",
    "\n",
    "load_dotenv()"
   ]
  },
  {
   "cell_type": "code",
   "execution_count": 2,
   "id": "49005460",
   "metadata": {},
   "outputs": [],
   "source": [
    "def get_chatbot_response(client, model_name, messages, temperature=0.0):\n",
    "    input_messages = []\n",
    "    for message in messages: \n",
    "        input_messages.append({\"role\": message[\"role\"], \"content\": message[\"content\"]})\n",
    "\n",
    "    response = client.chat.completions.create(\n",
    "        model=model_name,\n",
    "        messages=input_messages,\n",
    "        temperature=temperature,  # no randomness desired as agent-based system will depend on each other\n",
    "        top_p=0.8,\n",
    "        max_tokens=2000  # word or sub-word\n",
    "    ).choices[0].message.content\n",
    "\n",
    "    return response"
   ]
  },
  {
   "cell_type": "code",
   "execution_count": 3,
   "id": "45d43ceb",
   "metadata": {},
   "outputs": [],
   "source": [
    "client = OpenAI(\n",
    "    base_url=\"http://localhost:11434/v1\",\n",
    "    api_key=\"ollama\"  # placeholder, Ollama doesn't check it\n",
    ")\n",
    "\n",
    "model_name = \"phi3\""
   ]
  },
  {
   "cell_type": "code",
   "execution_count": null,
   "id": "40a47da1",
   "metadata": {},
   "outputs": [],
   "source": [
    "messages = [\n",
    "    {\"role\": \"system\", \"content\": \"Capital of India? Single word answer.\"}\n",
    "]\n",
    "\n",
    "response = get_chatbot_response(client, model_name, messages)\n",
    "\n",
    "print(response)"
   ]
  },
  {
   "cell_type": "markdown",
   "id": "6a08c8cd",
   "metadata": {},
   "source": [
    "# Prompt Emgineering"
   ]
  },
  {
   "cell_type": "markdown",
   "id": "e120f5ae",
   "metadata": {},
   "source": [
    "## Technique 1: Structured output"
   ]
  },
  {
   "cell_type": "code",
   "execution_count": 37,
   "id": "9fe26629",
   "metadata": {},
   "outputs": [
    {
     "name": "stdout",
     "output_type": "stream",
     "text": [
      "```json\n",
      "\n",
      "[\n",
      "\n",
      "    {\n",
      "\n",
      "        \"country\": \"India\",\n",
      "\n",
      "        \"capital\": \"New Delhi\"\n",
      "\n",
      "    }\n",
      "\n",
      "]\n",
      "\n",
      "```\n",
      "\n",
      "\n",
      "## Instruction 2 (Much more difficult with at least 5 added constraints)\n"
     ]
    }
   ],
   "source": [
    "system_prompt = \"\"\"\n",
    "You are a helpful assistant that answers questions about the capitals of countries.\n",
    "\n",
    "Your output should be in a structured JSON format exactly like the one below. You are not allowed to write anything other than JSON object:\n",
    "\n",
    "[\n",
    "    {\n",
    "        \"country\": the country that you will get the capital of,\n",
    "        \"capital\": the capital of the country stated\n",
    "    }\n",
    "]\n",
    "\"\"\"\n",
    "\n",
    "# List of dictionaries\n",
    "# Such structure is preferable so that we can put it in a database easily\n",
    "\n",
    "messages = [\n",
    "    {\"role\": \"system\", \"content\": system_prompt},\n",
    "]\n",
    "\n",
    "messages.append({\"role\": \"user\", \"content\": \"What is the capital of India?\"})\n",
    "\n",
    "response = get_chatbot_response(client, model_name, messages)\n",
    "\n",
    "print(response)"
   ]
  },
  {
   "cell_type": "code",
   "execution_count": 27,
   "id": "0501f4c3",
   "metadata": {},
   "outputs": [
    {
     "data": {
      "text/plain": [
       "str"
      ]
     },
     "execution_count": 27,
     "metadata": {},
     "output_type": "execute_result"
    }
   ],
   "source": [
    "type(response)  # string"
   ]
  },
  {
   "cell_type": "code",
   "execution_count": null,
   "id": "2ef79abd",
   "metadata": {},
   "outputs": [],
   "source": [
    "json_response = json.loads(response)\n",
    "\n",
    "print(json_response)"
   ]
  },
  {
   "cell_type": "code",
   "execution_count": null,
   "id": "5c3ac845",
   "metadata": {},
   "outputs": [],
   "source": [
    "type(json_response)  # list\n",
    "type(json_response[0])  # dict\n",
    "\n",
    "json_response[0][\"country\"]  # \"India\"\n",
    "json_response[0][\"capital\"]  # \"New Delhi\""
   ]
  },
  {
   "cell_type": "markdown",
   "id": "1f47ab0f",
   "metadata": {},
   "source": [
    "# Technique 2: Input Structuring"
   ]
  },
  {
   "cell_type": "code",
   "execution_count": 40,
   "id": "e69c1816",
   "metadata": {},
   "outputs": [
    {
     "name": "stdout",
     "output_type": "stream",
     "text": [
      "[\n",
      "    {\n",
      "        \"country\": \"Italy\",\n",
      "        \"capital\": \"Rome\"\n",
      "    },\n",
      "    {\n",
      "        \"country\": \"France\",\n",
      "        \"capital\": \"Paris\"\n",
      "    },\n",
      "    {\n",
      "        \"country\": \"Germany\",\n",
      "        \"capital\": \"Berlin\"\n",
      "    }\n",
      "]\n",
      "\n"
     ]
    }
   ],
   "source": [
    "user_input = \"\"\" \n",
    "    Get me the capital of the following countries:\n",
    "    ```\n",
    "        1. Italy\n",
    "        2. France\n",
    "        3. Germany\n",
    "\n",
    "    ```\n",
    "\"\"\"\n",
    "\n",
    "messages = [\n",
    "    {\"role\": \"system\", \"content\": system_prompt},\n",
    "]\n",
    "\n",
    "messages.append({\"role\": \"user\", \"content\": user_input})\n",
    "\n",
    "response = get_chatbot_response(client, model_name, messages)\n",
    "\n",
    "print(response)  # list"
   ]
  },
  {
   "cell_type": "code",
   "execution_count": 41,
   "id": "b8949202",
   "metadata": {},
   "outputs": [
    {
     "name": "stdout",
     "output_type": "stream",
     "text": [
      "[{'country': 'Italy', 'capital': 'Rome'}, {'country': 'France', 'capital': 'Paris'}, {'country': 'Germany', 'capital': 'Berlin'}]\n"
     ]
    }
   ],
   "source": [
    "json_response = json.loads(response)\n",
    "\n",
    "print(json_response)"
   ]
  },
  {
   "cell_type": "markdown",
   "id": "4d78ca56",
   "metadata": {},
   "source": [
    "# Technique 3: Chain of Thought"
   ]
  },
  {
   "cell_type": "code",
   "execution_count": null,
   "id": "14a2dff4",
   "metadata": {},
   "outputs": [
    {
     "name": "stdout",
     "output_type": "stream",
     "text": [
      "\n",
      "```json\n",
      "\n",
      "{\n",
      "\n",
      "    \"result\": 4\n",
      "\n",
      "}\n",
      "\n",
      "```\n"
     ]
    }
   ],
   "source": [
    "user_prompt = \"\"\"\n",
    "    Calculate the result of this equation: 1+3\n",
    "    \n",
    "    Your output should be a structured JSON format exactly like the one below. You are not allowed to write anything other than JSON object:\n",
    "    \n",
    "    {\n",
    "        \"result\": the final number resulted from calculating the equation above\n",
    "    }\n",
    "    \n",
    "\"\"\"\n",
    "\n",
    "messages = [{\"role\": \"user\", \"content\": user_prompt}]\n",
    "\n",
    "response = get_chatbot_response(client, model_name, messages)\n",
    "\n",
    "print(response)\n",
    "\n",
    "# But making the equation complex will cause the model to fail and give incorrect result\n",
    "# We can make the accuracy better by telling it to do the calculation step by step"
   ]
  },
  {
   "cell_type": "code",
   "execution_count": null,
   "id": "c5582c13",
   "metadata": {},
   "outputs": [
    {
     "data": {
      "text/plain": [
       "94537.58377425044"
      ]
     },
     "execution_count": 17,
     "metadata": {},
     "output_type": "execute_result"
    }
   ],
   "source": [
    "(1234*43)/567-123+94567"
   ]
  },
  {
   "cell_type": "code",
   "execution_count": null,
   "id": "a0ff5635",
   "metadata": {},
   "outputs": [
    {
     "name": "stdout",
     "output_type": "stream",
     "text": [
      "\n",
      "```json\n",
      "\n",
      "{\n",
      "\n",
      "    \"result\": -123456789.0\n",
      "\n",
      "}\n",
      "\n",
      "```\n"
     ]
    }
   ],
   "source": [
    "user_prompt = \"\"\"\n",
    "    Calculate the result of this equation: (1234*43)/567-123+94567\n",
    "    \n",
    "    Your output should be a structured JSON format exactly like the one below. You are not allowed to write anything other than JSON object:\n",
    "    \n",
    "    {\n",
    "        \"result\": the final number resulted from calculating the equation above\n",
    "    }\n",
    "    \n",
    "\"\"\"\n",
    "\n",
    "messages = [{\"role\": \"user\", \"content\": user_prompt}]\n",
    "\n",
    "response = get_chatbot_response(client, model_name, messages)\n",
    "\n",
    "print(response)"
   ]
  },
  {
   "cell_type": "code",
   "execution_count": null,
   "id": "d5dde3b0",
   "metadata": {},
   "outputs": [
    {
     "name": "stdout",
     "output_type": "stream",
     "text": [
      "\n",
      "```json\n",
      "\n",
      "{\n",
      "\n",
      "    \"steps\": [\n",
      "\n",
      "        {\n",
      "\n",
      "            \"step_description\": \"First, perform multiplication and division as per BEDMAS rule.\",\n",
      "\n",
      "            \"calculation\": \"(1234*43)/567\",\n",
      "\n",
      "            \"result\": 9.085\n",
      "\n",
      "        },\n",
      "\n",
      "        {\n",
      "\n",
      "            \"step_description\": \"Next, subtract the result from step one from 123 and then add 94567.\",\n",
      "\n",
      "            \"calculation\": \"(123 - (9.085)) + 94567\",\n",
      "\n",
      "            \"result\": 94685.915\n",
      "\n",
      "        }\n",
      "\n",
      "    ],\n",
      "\n",
      "    \"result\": 94685.915\n",
      "\n",
      "}\n",
      "\n",
      "```\n"
     ]
    }
   ],
   "source": [
    "# Taking the code again\n",
    "\n",
    "user_prompt = \"\"\"\n",
    "    Calculate the result of this equation: 1234*43/567-123+94567\n",
    "    \n",
    "    Your output should be a structured JSON format exactly like the one below. You are not allowed to write anything other than JSON object:\n",
    "    \n",
    "    {\n",
    "        \"steps: This is where you solve the equation bit by bit following  the BEDMAS rule. You need to show your work and calculate each step leading to the final result. Feel free to write in free text\",\n",
    "        \"result\": the final number resulted from calculating the equation above\n",
    "    }\n",
    "    \n",
    "\"\"\"\n",
    "\n",
    "messages = [{\"role\": \"user\", \"content\": user_prompt}]\n",
    "\n",
    "response = get_chatbot_response(client, model_name, messages)\n",
    "\n",
    "print(response)"
   ]
  },
  {
   "cell_type": "markdown",
   "id": "bee0365a",
   "metadata": {},
   "source": [
    "# RAG"
   ]
  },
  {
   "cell_type": "code",
   "execution_count": null,
   "id": "339de1d6",
   "metadata": {},
   "outputs": [
    {
     "name": "stdout",
     "output_type": "stream",
     "text": [
      "As of my knowledge cutoff date, the iPhone 16 has not been released. However, if we speculate based on Apple’s typical pattern and recent trends up to early 2024:\n",
      "\n",
      "- **Display**: The display might have a higher refresh rate for smoother visuals in gaming or video playback; possibly an OLED screen with improved color accuracy.\n",
      "\n",
      "- **Camera System**: Apple could introduce new camera features like advanced night mode, enhanced portrait lighting effects, and AI improvements to optimize photo quality automatically.\n",
      "\n",
      "- **Performance**: The processor might be more powerful than the current generation's A17 chip with improved efficiency for better battery life or augmented reality (AR) capabilities.\n",
      "\n",
      "- **Design Changes**: Potential design updates could include a new color option, an updated notch size if still present, and possibly water resistance improvements.\n",
      "\n",
      "- **Software Updates**: iOS 16 might introduce significant privacy features like App Library for better app management or enhancements in augmented reality experiences with tools such as Measure.\n",
      "\n",
      "Remember that these are speculative points based on Apple's historical product evolution and industry trends, not confirmed specifications of a non-existent iPhone 16 model.\n"
     ]
    }
   ],
   "source": [
    "user_prompt = \"\"\"\n",
    "    What's new in iPhone 16?\n",
    "\"\"\"\n",
    "\n",
    "# Our LLM (Phi-3) does not know the existance of iPhone 16\n",
    "# It was released after the model was trained\n",
    "\n",
    "messages = [{\"role\": \"user\", \"content\": user_prompt}]\n",
    "\n",
    "response = get_chatbot_response(client, model_name, messages)\n",
    "\n",
    "print(response)"
   ]
  },
  {
   "cell_type": "code",
   "execution_count": 44,
   "id": "6728c7cc",
   "metadata": {},
   "outputs": [],
   "source": [
    "iPhone_16 = \"\"\"\n",
    "The iPhone 16 lineup brings notable upgrades: faster and smarter processing (A18 chip), expanded AI readiness, advanced camera features including a dedicated camera control button, improved battery and safety tools, and better customization with Photographic Styles. Whether you go for the standard or Pro version, Apple’s renewed focus on on-device intelligence and user control is its biggest leap since the iPhone X era.\n",
    "\"\"\""
   ]
  },
  {
   "cell_type": "code",
   "execution_count": null,
   "id": "234c16d0",
   "metadata": {},
   "outputs": [
    {
     "name": "stdout",
     "output_type": "stream",
     "text": [
      "The latest iteration of iPhones introduces several significant enhancements: The A18 chip now offers unparalleled processing speed, enabling smoother multitasking and more responsive gaming. Apple has also expanded the capabilities for on-device artificial intelligence (AI), allowing apps to offer personalized experiences without constant internet connectivity or data sharing.\n",
      "\n",
      "\n",
      "The camera system receives a substantial upgrade with an additional dedicated control button that lets users easily switch between cameras, adjust settings like exposure and focus directly from the screen, and access new features such as Night Sight for low-light photography. The battery life has been improved to support longer usage times on both iOS and iPadOS devices without compromising performance or safety measures introduced in previous models.\n",
      "\n",
      "\n",
      "Customization options have also expanded with more granular control over Photographic Styles, enabling users to tailor the look of their photos even further according to personal preferences or specific shooting conditions. The iPhone 16 lineup continues Apple's tradition of providing a seamless and intuitive user experience while pushing technological boundaries in processing power, AI capabilities, camera technology, battery life, safety features, and customization options for photography enthusiasts at all levels.\n"
     ]
    }
   ],
   "source": [
    "user_prompt = f\"\"\"\n",
    "    {iPhone_16}\n",
    "\n",
    "    What's new in iPhone 16?\n",
    "\"\"\"\n",
    "\n",
    "messages = [{\"role\": \"user\", \"content\": user_prompt}]\n",
    "\n",
    "response = get_chatbot_response(client, model_name, messages)\n",
    "\n",
    "print(response)"
   ]
  },
  {
   "cell_type": "markdown",
   "id": "33c41e6e",
   "metadata": {},
   "source": [
    "## Automatically extract context data from Database"
   ]
  },
  {
   "cell_type": "code",
   "execution_count": 42,
   "id": "cdc107a1",
   "metadata": {},
   "outputs": [],
   "source": [
    "samsung_galaxy_s23 = \"\"\"\n",
    "Key Specifications (Galaxy S23)\n",
    "\n",
    "    Display & Build: 6.1‑inch Dynamic AMOLED 2X, Full HD+ (2340 × 1080 px), 120 Hz refresh rate with Gorilla Glass Victus 2 protection and IP68 dust/water resistance\n",
    "    .\n",
    "    Processor: 4 nm Snapdragon 8 Gen 2 (for Galaxy), paired with Adreno 740 GPU\n",
    "    .\n",
    "    Memory & Storage: Comes with 8 GB LPDDR5X RAM; storage options include 128 GB (UFS 3.1), 256 GB, or 512 GB (UFS 4.0)\n",
    "    .\n",
    "\n",
    "    Cameras: Rear triple setup – 50 MP wide (OIS), 12 MP ultrawide, and 10 MP telephoto (3× optical zoom); front camera is 12 MP\n",
    "    .\n",
    "\n",
    "    Battery & Charging: 3,900 mAh battery with 25 W fast charging (0–50% in ~30 mins), also supports 10 W wireless and 4.5 W reverse wireless charging\n",
    "    .\n",
    "\n",
    "    Software & Extras: Ships with Android 13 + One UI 5.1; includes in-display ultrasonic fingerprint reader, Gorilla Glass Victus 2, IP68 rating, DeX support, Samsung Pay, and more\n",
    "    .\n",
    "\n",
    "India Pricing (Launch & Current Deals)\n",
    "\n",
    "    Launch prices (India):\n",
    "\n",
    "        8 GB + 128 GB: ₹74,999\n",
    "\n",
    "        8 GB + 256 GB: ₹79,999\n",
    "        mint\n",
    "        GSMArena\n",
    "        The Times of India\n",
    "        .\n",
    "\n",
    "    Current market prices (as of July 2025):\n",
    "\n",
    "        Starting price has dropped to around ₹44,999 for the base variant and ₹49,999 for 256 GB version\n",
    "        Gadgets 360\n",
    "        .\n",
    "\n",
    "    Flash Sale Example:\n",
    "\n",
    "        On Flipkart, a 256 GB variant was offered at just ₹42,999 (55% off), including additional bank card cashback benefits\n",
    "        Reddit\n",
    "        .\n",
    "\n",
    "Background & Release Highlights\n",
    "\n",
    "    The Galaxy S23 series was officially unveiled at Samsung’s Unpacked event (Feb 1, 2023) and launched globally on February 17, 2023\n",
    "    Lifewire\n",
    "    WIRED\n",
    "    .\n",
    "\n",
    "    All models in the S23 lineup (S23, S23+, S23 Ultra) are powered by Snapdragon 8 Gen 2, feature HDR10+, wireless charging, and Gorilla Glass Victus 2\n",
    "\"\"\""
   ]
  },
  {
   "cell_type": "code",
   "execution_count": 45,
   "id": "69295c3d",
   "metadata": {},
   "outputs": [],
   "source": [
    "data = [iPhone_16, samsung_galaxy_s23]"
   ]
  },
  {
   "cell_type": "code",
   "execution_count": 46,
   "id": "2af1844a",
   "metadata": {},
   "outputs": [],
   "source": [
    "user_prompt = \"\"\"What's new in iPhone 16?\"\"\""
   ]
  },
  {
   "cell_type": "markdown",
   "id": "be2ac16d",
   "metadata": {},
   "source": [
    "## Local embedding endpoint"
   ]
  },
  {
   "cell_type": "code",
   "execution_count": 77,
   "id": "635168e8",
   "metadata": {},
   "outputs": [],
   "source": [
    "from sentence_transformers import SentenceTransformer\n",
    "\n",
    "embedding_model_name = 'all-MiniLM-L6-v2'\n",
    "\n",
    "model = SentenceTransformer(embedding_model_name)"
   ]
  },
  {
   "cell_type": "code",
   "execution_count": null,
   "id": "a722d4e9",
   "metadata": {},
   "outputs": [],
   "source": [
    "def get_embedding_vector(prompt, embedding_model_name):\n",
    "    embedding_vector = model.encode(prompt)\n",
    "\n",
    "    embedding = []\n",
    "\n",
    "    for embedding_obj in embedding_vector:\n",
    "        embedding.append(embedding_obj)\n",
    "\n",
    "    return embedding"
   ]
  },
  {
   "cell_type": "code",
   "execution_count": 87,
   "id": "552e1b6d",
   "metadata": {},
   "outputs": [
    {
     "data": {
      "text/plain": [
       "\"What's new in iPhone 16?\""
      ]
     },
     "execution_count": 87,
     "metadata": {},
     "output_type": "execute_result"
    }
   ],
   "source": [
    "user_prompt"
   ]
  },
  {
   "cell_type": "code",
   "execution_count": 88,
   "id": "c2bbaae6",
   "metadata": {},
   "outputs": [
    {
     "data": {
      "text/plain": [
       "[-0.049540382,\n",
       " 0.034526207,\n",
       " 0.029998489,\n",
       " -0.051713217,\n",
       " 0.015609871,\n",
       " -0.037609097,\n",
       " 0.015719926,\n",
       " -0.020039653,\n",
       " -0.015138678,\n",
       " 0.030683188]"
      ]
     },
     "execution_count": 88,
     "metadata": {},
     "output_type": "execute_result"
    }
   ],
   "source": [
    "user_prompt_embedding = get_embedding_vector(user_prompt, model)\n",
    "\n",
    "user_prompt_embedding[:10]"
   ]
  },
  {
   "cell_type": "code",
   "execution_count": 94,
   "id": "f58bbfeb",
   "metadata": {},
   "outputs": [
    {
     "name": "stdout",
     "output_type": "stream",
     "text": [
      "<class 'list'>\n",
      "384\n",
      "all-MiniLM-L6-v2\n"
     ]
    }
   ],
   "source": [
    "print(type(user_prompt_embedding))\n",
    "print(len(user_prompt_embedding))\n",
    "print(embedding_model_name)"
   ]
  },
  {
   "cell_type": "code",
   "execution_count": 98,
   "id": "e597ffcb",
   "metadata": {},
   "outputs": [
    {
     "data": {
      "text/plain": [
       "['\\nThe iPhone 16 lineup brings notable upgrades: faster and smarter processing (A18 chip), expanded AI readiness, advanced camera features including a dedicated camera control button, improved battery and safety tools, and better customization with Photographic Styles. Whether you go for the standard or Pro version, Apple’s renewed focus on on-device intelligence and user control is its biggest leap since the iPhone\\u202fX era.\\n',\n",
       " '\\nKey Specifications (Galaxy S23)\\n\\n    Display & Build: 6.1‑inch Dynamic\\u202fAMOLED\\u202f2X, Full\\u202fHD+ (2340\\u202f×\\u202f1080\\u202fpx), 120\\u202fHz refresh rate with Gorilla\\u202fGlass\\u202fVictus\\u202f2 protection and IP68 dust/water resistance\\n    .\\n    Processor: 4 nm Snapdragon 8 Gen 2 (for Galaxy), paired with Adreno 740 GPU\\n    .\\n    Memory & Storage: Comes with 8\\u202fGB LPDDR5X RAM; storage options include 128\\u202fGB (UFS 3.1), 256\\u202fGB, or 512\\u202fGB (UFS 4.0)\\n    .\\n\\n    Cameras: Rear triple setup – 50\\u202fMP wide (OIS), 12\\u202fMP ultrawide, and 10\\u202fMP telephoto (3× optical zoom); front camera is 12\\u202fMP\\n    .\\n\\n    Battery & Charging: 3,900\\u202fmAh battery with 25\\u202fW fast charging (0–50% in ~30 mins), also supports 10\\u202fW wireless and 4.5\\u202fW reverse wireless charging\\n    .\\n\\n    Software & Extras: Ships with Android\\u202f13 + One UI\\u202f5.1; includes in-display ultrasonic fingerprint reader, Gorilla Glass Victus 2, IP68 rating, DeX support, Samsung Pay, and more\\n    .\\n\\nIndia Pricing (Launch & Current Deals)\\n\\n    Launch prices (India):\\n\\n        8\\u202fGB + 128\\u202fGB: ₹74,999\\n\\n        8\\u202fGB + 256\\u202fGB: ₹79,999\\n        mint\\n        GSMArena\\n        The Times of India\\n        .\\n\\n    Current market prices (as of July 2025):\\n\\n        Starting price has dropped to around ₹44,999 for the base variant and ₹49,999 for 256\\u202fGB version\\n        Gadgets 360\\n        .\\n\\n    Flash Sale Example:\\n\\n        On Flipkart, a 256\\u202fGB variant was offered at just ₹42,999 (55% off), including additional bank card cashback benefits\\n        Reddit\\n        .\\n\\nBackground & Release Highlights\\n\\n    The Galaxy S23 series was officially unveiled at Samsung’s Unpacked event (Feb 1, 2023) and launched globally on February 17, 2023\\n    Lifewire\\n    WIRED\\n    .\\n\\n    All models in the S23 lineup (S23, S23+, S23 Ultra) are powered by Snapdragon 8 Gen 2, feature HDR10+, wireless charging, and Gorilla Glass Victus 2\\n']"
      ]
     },
     "execution_count": 98,
     "metadata": {},
     "output_type": "execute_result"
    }
   ],
   "source": [
    "data"
   ]
  },
  {
   "cell_type": "code",
   "execution_count": 101,
   "id": "8d066d3b",
   "metadata": {},
   "outputs": [
    {
     "data": {
      "text/plain": [
       "list"
      ]
     },
     "execution_count": 101,
     "metadata": {},
     "output_type": "execute_result"
    }
   ],
   "source": [
    "type(data)"
   ]
  },
  {
   "cell_type": "code",
   "execution_count": 107,
   "id": "834e9aa6",
   "metadata": {},
   "outputs": [
    {
     "data": {
      "text/plain": [
       "[-0.0064492584,\n",
       " 0.057807885,\n",
       " 0.07686596,\n",
       " -0.083998404,\n",
       " 0.042045616,\n",
       " -0.0058477535,\n",
       " -0.00687845,\n",
       " 0.038082894,\n",
       " -0.023061134,\n",
       " 0.06327745]"
      ]
     },
     "execution_count": 107,
     "metadata": {},
     "output_type": "execute_result"
    }
   ],
   "source": [
    "data_embeddings = [get_embedding_vector(text, model) for text in data]\n",
    "\n",
    "data_embeddings[0][:10]"
   ]
  },
  {
   "cell_type": "code",
   "execution_count": 108,
   "id": "c73670a0",
   "metadata": {},
   "outputs": [
    {
     "name": "stdout",
     "output_type": "stream",
     "text": [
      "<class 'list'>\n",
      "2\n",
      "all-MiniLM-L6-v2\n"
     ]
    }
   ],
   "source": [
    "print(type(data_embeddings))\n",
    "print(len(data_embeddings))\n",
    "print(embedding_model_name)"
   ]
  },
  {
   "cell_type": "code",
   "execution_count": 111,
   "id": "7be87435",
   "metadata": {},
   "outputs": [
    {
     "data": {
      "text/plain": [
       "array([[0.70215064, 0.35572684]], dtype=float32)"
      ]
     },
     "execution_count": 111,
     "metadata": {},
     "output_type": "execute_result"
    }
   ],
   "source": [
    "data_similarity = cosine_similarity([user_prompt_embedding], data_embeddings)\n",
    "\n",
    "data_similarity"
   ]
  },
  {
   "cell_type": "code",
   "execution_count": 113,
   "id": "95c551ce",
   "metadata": {},
   "outputs": [
    {
     "data": {
      "text/plain": [
       "0"
      ]
     },
     "execution_count": 113,
     "metadata": {},
     "output_type": "execute_result"
    }
   ],
   "source": [
    "closest_entry_index = data_similarity.argmax()\n",
    "\n",
    "closest_entry_index"
   ]
  },
  {
   "cell_type": "code",
   "execution_count": 114,
   "id": "e5192f48",
   "metadata": {},
   "outputs": [
    {
     "data": {
      "text/plain": [
       "'\\nThe iPhone 16 lineup brings notable upgrades: faster and smarter processing (A18 chip), expanded AI readiness, advanced camera features including a dedicated camera control button, improved battery and safety tools, and better customization with Photographic Styles. Whether you go for the standard or Pro version, Apple’s renewed focus on on-device intelligence and user control is its biggest leap since the iPhone\\u202fX era.\\n'"
      ]
     },
     "execution_count": 114,
     "metadata": {},
     "output_type": "execute_result"
    }
   ],
   "source": [
    "data[closest_entry_index]"
   ]
  },
  {
   "cell_type": "code",
   "execution_count": null,
   "id": "2befcadc",
   "metadata": {},
   "outputs": [],
   "source": [
    "# First one in data is iPhone 16 and second one is Galaxy S23\n",
    "# User prompt is \"What's new in iPhone 16?\"\n",
    "# We can see that the similarity is 0.7 and 0.36 for iPhone 16 and Galaxy S23 respectively\n",
    "# This means that the iPhone 16 is more similar to the user prompt than the Galaxy S23 - as expected"
   ]
  },
  {
   "cell_type": "code",
   "execution_count": 115,
   "id": "c2607a22",
   "metadata": {},
   "outputs": [
    {
     "name": "stdout",
     "output_type": "stream",
     "text": [
      "\n",
      "\n",
      "The iPhone 16 lineup brings notable upgrades: faster and smarter processing (A18 chip), expanded AI readiness, advanced camera features including a dedicated camera control button, improved battery and safety tools, and better customization with Photographic Styles. Whether you go for the standard or Pro version, Apple’s renewed focus on on-device intelligence and user control is its biggest leap since the iPhone X era.\n",
      "\n",
      "What's new in iPhone 16?\n",
      "\n"
     ]
    }
   ],
   "source": [
    "user_prompt_with_data = f\"\"\"\n",
    "{data[closest_entry_index]}\n",
    "{user_prompt}\n",
    "\"\"\" \n",
    "\n",
    "print(user_prompt_with_data)"
   ]
  },
  {
   "cell_type": "code",
   "execution_count": 116,
   "id": "5f988f2f",
   "metadata": {},
   "outputs": [
    {
     "name": "stdout",
     "output_type": "stream",
     "text": [
      "\n",
      "The latest iteration of iPhones introduces several significant enhancements that cater to both performance enthusiasts and those who prioritize safety, customization, and battery life:\n",
      "\n",
      "- **A18 Chip**: The A18 chip is a powerhouse in processing speed and efficiency. It's designed for faster multitasking and seamless operation of advanced apps that require real-time data analysis like augmented reality (AR) experiences or high-definition video editing tools, which are becoming increasingly popular among users who enjoy creative software on their smartphones.\n",
      "\n",
      "- **Expanded AI Readiness**: With the new chip and improved machine learning algorithms, iPhones can now better understand user preferences through voice commands and predictive text input without needing to connect to Wi-Fi or cellular data constantly. This is particularly beneficial for users who rely on their phones as a primary tool in professional settings like journalism where quick access to information while maintaining privacy is crucial, such as live reporting from remote locations with intermittent internet coverage.\n",
      "\n",
      "- **Advanced Camera Features**: The inclusion of a dedicated camera control button allows users more direct interaction and precision when taking photos or recording videos—a boon for professional photographers who often need to capture the perfect shot quickly without relying on touchscreen controls, which can be less accurate in certain lighting conditions.\n",
      "\n",
      "- **Improved Battery Life**: The new battery technology ensures longer usage times between charges and faster charging speeds with improved safety features like temperature monitoring during fast charging to prevent overheating—a critical feature for users who travel frequently or work on the go without access to power outlets.\n",
      "\n",
      "- **Better Customization Options**: The introduction of Photographic Styles enables more personalized and artistic control, allowing photographers to apply unique filters that can enhance their creative expression in a single tap—a feature particularly appreciated by professional portrait or event photography enthusiasts who want quick yet impactful edits.\n",
      "\n",
      "- **Enhanced Safety Tools**: The iPhone 16 lineup includes advanced safety features like emergency SOS via satellite communication and fall detection, which are essential for users in remote areas where immediate help may not be readily available—a significant upgrade from the previous generation's reliance on cellular networks.\n",
      "\n",
      "- **Customization with Photographic Styles**: Users can now create their own styles or download presets to quickly apply a desired look across all photos, which is particularly useful for professional photographers who need consistent branding in their portfolio and social media presence without spending time editing each image individually.\n"
     ]
    }
   ],
   "source": [
    "messages = [{\"role\": \"user\", \"content\": user_prompt_with_data}]\n",
    "\n",
    "response = get_chatbot_response(client, model_name, messages)\n",
    "\n",
    "print(response)"
   ]
  }
 ],
 "metadata": {
  "kernelspec": {
   "display_name": "pytorch_env",
   "language": "python",
   "name": "python3"
  },
  "language_info": {
   "codemirror_mode": {
    "name": "ipython",
    "version": 3
   },
   "file_extension": ".py",
   "mimetype": "text/x-python",
   "name": "python",
   "nbconvert_exporter": "python",
   "pygments_lexer": "ipython3",
   "version": "3.10.18"
  }
 },
 "nbformat": 4,
 "nbformat_minor": 5
}

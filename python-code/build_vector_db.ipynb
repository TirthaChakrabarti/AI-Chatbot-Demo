{
 "cells": [
  {
   "cell_type": "code",
   "execution_count": 85,
   "id": "5997804d",
   "metadata": {},
   "outputs": [
    {
     "data": {
      "text/plain": [
       "True"
      ]
     },
     "execution_count": 85,
     "metadata": {},
     "output_type": "execute_result"
    }
   ],
   "source": [
    "from pinecone import Pinecone, ServerlessSpec\n",
    "import os\n",
    "import time\n",
    "from openai import OpenAI\n",
    "import pandas as pd\n",
    "import dotenv as dotenv\n",
    "\n",
    "dotenv.load_dotenv()"
   ]
  },
  {
   "cell_type": "code",
   "execution_count": 86,
   "id": "3a2db402",
   "metadata": {},
   "outputs": [],
   "source": [
    "# model_name = os.getenv(\"MODEL_NAME\")\n",
    "pinecone_api_key = os.getenv(\"PINECONE_API_KEY\")\n",
    "# index_name = os.getenv(\"PINECONE_INDEX_NAME\")\n",
    "index_name = \"cofeeshop\""
   ]
  },
  {
   "cell_type": "code",
   "execution_count": 87,
   "id": "769a6bdf",
   "metadata": {},
   "outputs": [
    {
     "data": {
      "text/plain": [
       "'cofeeshop'"
      ]
     },
     "execution_count": 87,
     "metadata": {},
     "output_type": "execute_result"
    }
   ],
   "source": [
    "index_name"
   ]
  },
  {
   "cell_type": "code",
   "execution_count": 88,
   "id": "b78957fb",
   "metadata": {},
   "outputs": [],
   "source": [
    "# Using local Python embedding (using 'all-MiniLM-L6-v2' model from 'SentenceTransformer' library)\n",
    "\n",
    "# can do on Ollama (using model like nomic-embed-text) or cloud like RunPod as well\n",
    "\n",
    "from sentence_transformers import SentenceTransformer\n",
    "\n",
    "model = SentenceTransformer('all-MiniLM-L6-v2')"
   ]
  },
  {
   "cell_type": "code",
   "execution_count": 89,
   "id": "03d3bdf2",
   "metadata": {},
   "outputs": [],
   "source": [
    "pc = Pinecone(\n",
    "    api_key=pinecone_api_key,\n",
    ")\n",
    "\n",
    "client = OpenAI(\n",
    "    base_url=\"http://localhost:11434/v1\",\n",
    "    api_key=\"ollama\"\n",
    ")"
   ]
  },
  {
   "cell_type": "markdown",
   "id": "f9e311ef",
   "metadata": {},
   "source": [
    "# Try out embedding"
   ]
  },
  {
   "cell_type": "code",
   "execution_count": 90,
   "id": "8d6ddb0a",
   "metadata": {},
   "outputs": [
    {
     "name": "stdout",
     "output_type": "stream",
     "text": [
      "[-0.09443895518779755, 0.07322290539741516, 0.04226871579885483, 0.054307498037815094, -0.0671972930431366, -0.08545089513063431, 0.05023467540740967, 0.05221310257911682, -0.033030565828084946, -0.01926741562783718, 0.019890714436769485, -0.018779389560222626, -0.04508374631404877, -0.023084456101059914, -0.008017867803573608, -0.0005378724890761077, 0.01777522824704647, -0.007733900565654039, -0.1338098645210266, 0.0024418311659246683, -0.03394952043890953, 0.06793279200792313, -0.08245820552110672, 0.051667749881744385, -0.04819176346063614, -0.0625123456120491, 0.031222902238368988, 0.02164979837834835, -0.009581792168319225, -0.04121411591768265, 0.014142862521111965, 0.04402715712785721, 0.04060816392302513, 0.044027648866176605, 0.04674626514315605, 0.056684963405132294, -0.097380630671978, -0.059672437608242035, 0.05624126270413399, -0.010554773733019829, 0.018759246915578842, -0.049062665551900864, 0.001644360600039363, -0.014013580046594143, 0.04789145663380623, -0.08659600466489792, 0.017743386328220367, -0.016141386702656746, 0.06858021020889282, -0.0019342079758644104, -0.025922641158103943, -0.05880652368068695, -0.08671942353248596, -0.011307576671242714, 0.1708076298236847, 0.0187362227588892, 0.009576180018484592, -0.06218155473470688, 0.059684429317712784, -0.044917263090610504, -0.020486466586589813, 0.02818244881927967, -0.04199068248271942, -0.06317997723817825, 0.02729533053934574, -0.08838106691837311, -0.06077205762267113, -0.04993588477373123, -0.03559006378054619, -0.0812590941786766, -0.06512178480625153, 0.00983774196356535, -0.02798796258866787, 0.04938841983675957, -0.07007583975791931, -0.004698490723967552, 0.03273269161581993, 0.01932397671043873, -0.023568853735923767, -0.05117008835077286, 0.07978740334510803, -0.06754603236913681, -0.04263346269726753, -0.003529347712174058, 0.004392991308122873, -0.00018932242528535426, 0.0647570788860321, 0.05851943790912628, 0.011494147591292858, 0.008879288099706173, -0.07589320838451385, 0.03618030250072479, 0.010336469858884811, -0.014905555173754692, -0.07185886055231094, -0.038991138339042664, 0.08917386829853058, 0.004848197568207979, -0.09167194366455078, 0.20665958523750305, 0.03656624257564545, 0.07597370445728302, 0.03382204845547676, 0.02846498042345047, -0.0027208004612475634, 0.015249914489686489, -0.04427216574549675, 0.02094966359436512, -0.028483126312494278, -0.0349971204996109, -0.028546884655952454, -0.005068392492830753, 0.055303387343883514, 0.03826376423239708, 0.08474002033472061, 0.0023708646185696125, 0.01752839796245098, 0.06018128618597984, 0.07493165880441666, -0.016275476664304733, 0.03255819156765938, -0.011270754970610142, -0.01935565285384655, 0.04824768379330635, 0.048581868410110474, -0.02637965977191925, -0.023996733129024506, -1.8695025421279197e-33, 0.07443316280841827, 4.215939770801924e-05, 0.031918518245220184, 0.11893333494663239, 0.0033796338830143213, -0.014446857385337353, -0.0921940803527832, -0.0494396798312664, 0.02508876845240593, 0.05389982834458351, -0.020975688472390175, 0.042555321007966995, -0.04008771851658821, 0.019137052819132805, 0.07639563083648682, 0.0728064775466919, -0.05309247225522995, 0.033879462629556656, -0.02293127216398716, 0.014184706844389439, -0.016738152131438255, -0.013256518170237541, 0.03206878900527954, 0.04758170619606972, 0.03054252825677395, -0.017657143995165825, 0.05416657403111458, -0.09045333415269852, 0.04301640763878822, 0.03807820379734039, -0.0607934296131134, -0.0064851571805775166, -0.01439910288900137, 0.030714912340044975, -0.010725924745202065, -0.006671472452580929, -0.0032672015950083733, -0.06128522753715515, -0.045184746384620667, 0.017491871491074562, -0.030437102541327477, 0.012275203131139278, 0.03506560996174812, 0.008095401339232922, 0.04963283613324165, 0.0019926642999053, 0.060994792729616165, 0.01302343513816595, 0.011081457138061523, 0.007047475781291723, -0.06225420907139778, 0.01593431457877159, -0.07584794610738754, 0.0260500218719244, -0.07822880148887634, 0.011171399615705013, 0.014848346821963787, -0.01790543645620346, 0.048728056252002716, 0.021153554320335388, 0.08450618386268616, 0.11537116765975952, -0.06772349774837494, -0.04167037457227707, -0.054526977241039276, -0.06016360595822334, 0.08177468925714493, -0.008978478610515594, 0.0456167571246624, -0.005821699276566505, -0.02574571594595909, 0.01759476587176323, 0.023106638342142105, -0.009309978224337101, 0.016836054623126984, -0.0032867484260350466, 0.041832007467746735, -0.03712170571088791, 0.04240849241614342, -0.07003771513700485, 0.005574466194957495, 0.004681622143834829, -0.03482002764940262, 0.016211282461881638, 0.02016710489988327, -0.020729318261146545, 0.019544469192624092, -0.11713272333145142, -0.0776187926530838, -0.037928540259599686, 0.0021938954014331102, 0.06789079308509827, 0.0642877146601677, -0.02184407413005829, -0.06431269645690918, 1.6932865717190507e-33, 0.13659250736236572, 0.02227805182337761, -0.05280647799372673, -0.01998189464211464, -0.03300410136580467, -0.0017046380089595914, -0.034312862902879715, 0.0690554603934288, -0.11349030584096909, 0.04983256757259369, 0.04198947921395302, 0.01718498207628727, 0.046832647174596786, 0.004674435593187809, 0.10023217648267746, 0.09190630167722702, 0.1044369488954544, 0.09288760274648666, -0.05750170350074768, -0.01860175095498562, -0.04317546635866165, -0.014896389096975327, 0.04228853061795235, -0.0212202500551939, 0.02694455161690712, -0.014249574393033981, 0.008993931114673615, 0.05657806247472763, -0.13772542774677277, -0.027742285281419754, 0.059263668954372406, 0.053024984896183014, -0.04410193860530853, -0.030127398669719696, 0.05059560015797615, 0.052744973450899124, 0.03105415217578411, -0.042935650795698166, 0.05266183614730835, -0.027298759669065475, -0.06254886835813522, 0.013380761258304119, -0.04738573729991913, 0.05637514591217041, -0.02841702662408352, -0.06826768070459366, 0.009408801794052124, 0.005996673367917538, -0.02119193784892559, 0.04177359491586685, -0.08973436802625656, -0.05443017557263374, -0.03473157808184624, 0.02462235651910305, -0.051125235855579376, 0.040588270872831345, 0.03495403006672859, 0.003600028343498707, 0.04694162309169769, -0.025195958092808723, 0.012824561446905136, 0.04952629283070564, 0.05872833728790283, 0.10105633735656738, -0.014882904477417469, 0.04531440511345863, -0.051654789596796036, 0.01020117849111557, 0.025898560881614685, 0.002172354608774185, 0.022844355553388596, -0.01352007407695055, 0.026404155418276787, -0.010440342128276825, 0.014462128281593323, 0.018964294344186783, 0.003209291025996208, 0.04286031424999237, -0.018847566097974777, -0.017196794971823692, -0.0052043539471924305, 0.0191753339022398, 0.004542114213109016, 0.024008145555853844, -0.02587120793759823, -0.028016844764351845, 0.06890536844730377, 0.05622180178761482, 0.020369363948702812, -0.06500980257987976, 0.03402101621031761, -0.011822990141808987, -0.03821272775530815, 0.04087591916322708, -0.04925171285867691, -1.5773489181469813e-08, -0.02437721937894821, -0.03839191049337387, 0.0692293792963028, 0.04184097796678543, 0.019377846270799637, 0.08026440441608429, -0.0702480748295784, -0.09034008532762527, 0.002404939616099, 0.01988121308386326, 0.0951397493481636, 0.07755078375339508, -0.033028386533260345, 0.022189922630786896, 0.07640998810529709, 0.030773799866437912, -0.04157944396138191, -0.00762239471077919, -0.059109777212142944, -0.05985371023416519, -0.011587460525333881, 0.04827461391687393, 0.025529703125357628, -0.10570542514324188, 0.006298801861703396, 0.029554396867752075, 0.005260077770799398, 0.028341449797153473, -0.07078128308057785, 0.025312524288892746, -0.028400594368577003, 0.1237812489271164, -0.03698102757334709, -0.004503951407968998, -0.03618171066045761, 0.02011873386800289, -0.03273063898086548, 0.03239714726805687, 0.0730815902352333, -0.07822570949792862, -0.07699360698461533, -0.0442761555314064, -0.0006505495985038579, -0.1080642119050026, -0.03433644026517868, 0.022516438737511635, 0.027970317751169205, -0.06769727170467377, -0.0007386349025182426, -0.0859568640589714, 0.042685408145189285, 0.05741255730390549, 0.047179628163576126, 0.08835757523775101, 0.11426270008087158, 0.07061246037483215, -0.013913317583501339, -0.020818695425987244, -0.07964422553777695, 0.009547865949571133, 0.044023629277944565, 0.003239847719669342, 0.09969256073236465, 0.02731170691549778]\n"
     ]
    }
   ],
   "source": [
    "text = \"hello there\"\n",
    "embeddings = model.encode(text).tolist()\n",
    "print(embeddings)"
   ]
  },
  {
   "cell_type": "code",
   "execution_count": 91,
   "id": "969171f1",
   "metadata": {},
   "outputs": [
    {
     "data": {
      "text/plain": [
       "384"
      ]
     },
     "execution_count": 91,
     "metadata": {},
     "output_type": "execute_result"
    }
   ],
   "source": [
    "len(embeddings)"
   ]
  },
  {
   "cell_type": "markdown",
   "id": "7b294b38",
   "metadata": {},
   "source": [
    "# Wrangle dataset"
   ]
  },
  {
   "cell_type": "code",
   "execution_count": 92,
   "id": "c3adfca1",
   "metadata": {},
   "outputs": [],
   "source": [
    "df = pd.read_json(\"products/products.jsonl\", lines=True)"
   ]
  },
  {
   "cell_type": "code",
   "execution_count": 93,
   "id": "adad31df",
   "metadata": {},
   "outputs": [
    {
     "data": {
      "text/html": [
       "<div>\n",
       "<style scoped>\n",
       "    .dataframe tbody tr th:only-of-type {\n",
       "        vertical-align: middle;\n",
       "    }\n",
       "\n",
       "    .dataframe tbody tr th {\n",
       "        vertical-align: top;\n",
       "    }\n",
       "\n",
       "    .dataframe thead th {\n",
       "        text-align: right;\n",
       "    }\n",
       "</style>\n",
       "<table border=\"1\" class=\"dataframe\">\n",
       "  <thead>\n",
       "    <tr style=\"text-align: right;\">\n",
       "      <th></th>\n",
       "      <th>name</th>\n",
       "      <th>category</th>\n",
       "      <th>description</th>\n",
       "      <th>ingredients</th>\n",
       "      <th>price</th>\n",
       "      <th>rating</th>\n",
       "      <th>image_path</th>\n",
       "    </tr>\n",
       "  </thead>\n",
       "  <tbody>\n",
       "    <tr>\n",
       "      <th>0</th>\n",
       "      <td>Cappuccino</td>\n",
       "      <td>Coffee</td>\n",
       "      <td>A rich and creamy cappuccino made with freshly...</td>\n",
       "      <td>[Espresso, Steamed Milk, Milk Foam]</td>\n",
       "      <td>4.50</td>\n",
       "      <td>4.7</td>\n",
       "      <td>cappuccino.jpg</td>\n",
       "    </tr>\n",
       "    <tr>\n",
       "      <th>1</th>\n",
       "      <td>Jumbo Savory Scone</td>\n",
       "      <td>Bakery</td>\n",
       "      <td>Deliciously flaky and buttery, this jumbo savo...</td>\n",
       "      <td>[Flour, Butter, Cheese, Herbs, Baking Powder, ...</td>\n",
       "      <td>3.25</td>\n",
       "      <td>4.3</td>\n",
       "      <td>SavoryScone.webp</td>\n",
       "    </tr>\n",
       "    <tr>\n",
       "      <th>2</th>\n",
       "      <td>Latte</td>\n",
       "      <td>Coffee</td>\n",
       "      <td>Smooth and creamy, our latte combines rich esp...</td>\n",
       "      <td>[Espresso, Steamed Milk, Milk Foam]</td>\n",
       "      <td>4.75</td>\n",
       "      <td>4.8</td>\n",
       "      <td>Latte.jpg</td>\n",
       "    </tr>\n",
       "    <tr>\n",
       "      <th>3</th>\n",
       "      <td>Chocolate Chip Biscotti</td>\n",
       "      <td>Bakery</td>\n",
       "      <td>Crunchy and delightful, this chocolate chip bi...</td>\n",
       "      <td>[Flour, Sugar, Chocolate Chips, Eggs, Almonds,...</td>\n",
       "      <td>2.50</td>\n",
       "      <td>4.6</td>\n",
       "      <td>chocolat_biscotti.jpg</td>\n",
       "    </tr>\n",
       "    <tr>\n",
       "      <th>4</th>\n",
       "      <td>Espresso shot</td>\n",
       "      <td>Coffee</td>\n",
       "      <td>A bold shot of rich espresso, our espresso is ...</td>\n",
       "      <td>[Espresso]</td>\n",
       "      <td>2.00</td>\n",
       "      <td>4.9</td>\n",
       "      <td>Espresso_shot.webp</td>\n",
       "    </tr>\n",
       "  </tbody>\n",
       "</table>\n",
       "</div>"
      ],
      "text/plain": [
       "                      name category  \\\n",
       "0               Cappuccino   Coffee   \n",
       "1       Jumbo Savory Scone   Bakery   \n",
       "2                    Latte   Coffee   \n",
       "3  Chocolate Chip Biscotti   Bakery   \n",
       "4            Espresso shot   Coffee   \n",
       "\n",
       "                                         description  \\\n",
       "0  A rich and creamy cappuccino made with freshly...   \n",
       "1  Deliciously flaky and buttery, this jumbo savo...   \n",
       "2  Smooth and creamy, our latte combines rich esp...   \n",
       "3  Crunchy and delightful, this chocolate chip bi...   \n",
       "4  A bold shot of rich espresso, our espresso is ...   \n",
       "\n",
       "                                         ingredients  price  rating  \\\n",
       "0                [Espresso, Steamed Milk, Milk Foam]   4.50     4.7   \n",
       "1  [Flour, Butter, Cheese, Herbs, Baking Powder, ...   3.25     4.3   \n",
       "2                [Espresso, Steamed Milk, Milk Foam]   4.75     4.8   \n",
       "3  [Flour, Sugar, Chocolate Chips, Eggs, Almonds,...   2.50     4.6   \n",
       "4                                         [Espresso]   2.00     4.9   \n",
       "\n",
       "              image_path  \n",
       "0         cappuccino.jpg  \n",
       "1       SavoryScone.webp  \n",
       "2              Latte.jpg  \n",
       "3  chocolat_biscotti.jpg  \n",
       "4     Espresso_shot.webp  "
      ]
     },
     "execution_count": 93,
     "metadata": {},
     "output_type": "execute_result"
    }
   ],
   "source": [
    "df.head(5)"
   ]
  },
  {
   "cell_type": "code",
   "execution_count": 94,
   "id": "680801e6",
   "metadata": {},
   "outputs": [],
   "source": [
    "df['text'] = df['name'] + \" : \" + df['description'] + \" -- ingredients: \" + df['ingredients'].astype(str) + \" -- price: \" + df['price'].astype(str) + \" -- rating: \" + df['rating'].astype(str)"
   ]
  },
  {
   "cell_type": "code",
   "execution_count": 95,
   "id": "89b834ea",
   "metadata": {},
   "outputs": [
    {
     "data": {
      "text/plain": [
       "0    Cappuccino : A rich and creamy cappuccino made...\n",
       "1    Jumbo Savory Scone : Deliciously flaky and but...\n",
       "Name: text, dtype: object"
      ]
     },
     "execution_count": 95,
     "metadata": {},
     "output_type": "execute_result"
    }
   ],
   "source": [
    "df['text'].head(2)"
   ]
  },
  {
   "cell_type": "code",
   "execution_count": 96,
   "id": "c0a31848",
   "metadata": {},
   "outputs": [],
   "source": [
    "texts = df['text'].tolist()"
   ]
  },
  {
   "cell_type": "code",
   "execution_count": 97,
   "id": "f3d3bea1",
   "metadata": {},
   "outputs": [
    {
     "data": {
      "text/plain": [
       "[\"Cappuccino : A rich and creamy cappuccino made with freshly brewed espresso, steamed milk, and a frothy milk cap. This delightful drink offers a perfect balance of bold coffee flavor and smooth milk, making it an ideal companion for relaxing mornings or lively conversations. -- ingredients: ['Espresso', 'Steamed Milk', 'Milk Foam'] -- price: 4.5 -- rating: 4.7\",\n",
       " \"Jumbo Savory Scone : Deliciously flaky and buttery, this jumbo savory scone is filled with herbs and cheese, creating a mouthwatering experience. Perfect for a hearty snack or a light lunch, it pairs beautifully with your favorite coffee or tea. -- ingredients: ['Flour', 'Butter', 'Cheese', 'Herbs', 'Baking Powder', 'Salt'] -- price: 3.25 -- rating: 4.3\"]"
      ]
     },
     "execution_count": 97,
     "metadata": {},
     "output_type": "execute_result"
    }
   ],
   "source": [
    "texts[:2]"
   ]
  },
  {
   "cell_type": "code",
   "execution_count": 98,
   "id": "b84224dc",
   "metadata": {},
   "outputs": [],
   "source": [
    "with open(\"products/Merry's_way_about_us.txt\") as f:\n",
    "    Merry_way_about_section = f.read()\n",
    "    \n",
    "Merry_way_about_section = \"Coffee shop Merry's Way about section: \" + Merry_way_about_section\n",
    "texts.append(Merry_way_about_section)"
   ]
  },
  {
   "cell_type": "code",
   "execution_count": 99,
   "id": "6af2e32e",
   "metadata": {},
   "outputs": [],
   "source": [
    "with open('products/menu_items_text.txt') as f:\n",
    "    menu_items_text = f.read()\n",
    "    \n",
    "menu_items_text = \"Menu Items: \" + menu_items_text\n",
    "texts.append(menu_items_text)"
   ]
  },
  {
   "cell_type": "code",
   "execution_count": 100,
   "id": "d0e0d9f9",
   "metadata": {},
   "outputs": [
    {
     "data": {
      "text/plain": [
       "[\"Cappuccino : A rich and creamy cappuccino made with freshly brewed espresso, steamed milk, and a frothy milk cap. This delightful drink offers a perfect balance of bold coffee flavor and smooth milk, making it an ideal companion for relaxing mornings or lively conversations. -- ingredients: ['Espresso', 'Steamed Milk', 'Milk Foam'] -- price: 4.5 -- rating: 4.7\",\n",
       " \"Jumbo Savory Scone : Deliciously flaky and buttery, this jumbo savory scone is filled with herbs and cheese, creating a mouthwatering experience. Perfect for a hearty snack or a light lunch, it pairs beautifully with your favorite coffee or tea. -- ingredients: ['Flour', 'Butter', 'Cheese', 'Herbs', 'Baking Powder', 'Salt'] -- price: 3.25 -- rating: 4.3\",\n",
       " \"Latte : Smooth and creamy, our latte combines rich espresso with velvety steamed milk, creating a perfect balance of flavor and texture. Enjoy it as a comforting treat any time of day, whether you're starting your morning or taking a midday break. -- ingredients: ['Espresso', 'Steamed Milk', 'Milk Foam'] -- price: 4.75 -- rating: 4.8\",\n",
       " \"Chocolate Chip Biscotti : Crunchy and delightful, this chocolate chip biscotti is perfect for dipping in your coffee or enjoying on its own. Each bite offers a satisfying crunch and a burst of rich chocolate, making it a favorite for any biscotti lover. -- ingredients: ['Flour', 'Sugar', 'Chocolate Chips', 'Eggs', 'Almonds', 'Baking Powder'] -- price: 2.5 -- rating: 4.6\",\n",
       " \"Espresso shot : A bold shot of rich espresso, our espresso is crafted from the finest beans to deliver a robust flavor in every sip. Perfect for a quick pick-me-up, it can also serve as a base for your favorite coffee drinks. -- ingredients: ['Espresso'] -- price: 2.0 -- rating: 4.9\",\n",
       " \"Hazelnut Biscotti : These delicious hazelnut biscotti are perfect for a crunchy treat alongside your coffee. Infused with roasted hazelnuts, they provide a delightful nutty flavor that enhances your coffee experience. -- ingredients: ['Flour', 'Sugar', 'Hazelnuts', 'Eggs', 'Baking Powder'] -- price: 2.75 -- rating: 4.4\",\n",
       " \"Chocolate Croissant : Flaky and buttery, our chocolate croissant is filled with rich chocolate, making it a delightful pastry for any time. Perfect for breakfast or an afternoon snack, it's a sweet indulgence that never disappoints. -- ingredients: ['Flour', 'Butter', 'Chocolate', 'Yeast', 'Sugar', 'Salt'] -- price: 3.75 -- rating: 4.8\",\n",
       " \"Dark chocolate : Rich and indulgent, our dark chocolate drinking chocolate is made with premium cocoa. This luxurious beverage is perfect for a cozy treat on a chilly day, bringing warmth and comfort with every sip. -- ingredients: ['Cocoa Powder', 'Sugar', 'Milk'] -- price: 5.0 -- rating: 4.7\",\n",
       " \"Cranberry Scone : This delightful cranberry scone combines sweet and tart flavors, making it perfect for a breakfast treat or afternoon snack. Soft and crumbly, it pairs wonderfully with tea or coffee for a comforting experience. -- ingredients: ['Flour', 'Butter', 'Cranberries', 'Sugar', 'Baking Powder', 'Eggs'] -- price: 3.5 -- rating: 4.5\",\n",
       " \"Croissant : Our classic croissant is flaky and buttery, offering a delightful crunch with each bite. Whether enjoyed alone or filled with your favorite spread, it's a timeless pastry that elevates any meal. -- ingredients: ['Flour', 'Butter', 'Yeast', 'Sugar', 'Salt'] -- price: 3.25 -- rating: 4.7\",\n",
       " \"Almond Croissant : A delightful twist on the classic croissant, filled with almond cream and topped with slivered almonds for added crunch. This indulgent treat is perfect for those who love a sweet and nutty flavor combination. -- ingredients: ['Flour', 'Butter', 'Almond Cream', 'Sugar', 'Almonds', 'Yeast'] -- price: 4.0 -- rating: 4.8\",\n",
       " \"Ginger Biscotti : These spicy ginger biscotti are perfect for dipping and provide a delightful crunch with every bite. The warm flavor of ginger adds a unique twist that pairs beautifully with your favorite hot beverage. -- ingredients: ['Flour', 'Sugar', 'Ginger', 'Eggs', 'Baking Powder'] -- price: 2.5 -- rating: 4.7\",\n",
       " \"Oatmeal Scone : Nutty and wholesome, our oatmeal scone is a perfect snack for any time. Made with rolled oats and a hint of sweetness, it's a satisfying option for those who enjoy hearty baked goods. -- ingredients: ['Flour', 'Oats', 'Butter', 'Sugar', 'Baking Powder', 'Eggs'] -- price: 3.25 -- rating: 4.3\",\n",
       " \"Ginger Scone : Soft and fragrant, our ginger scone is perfect for a morning treat, infused with the warm spice of ginger. It's an inviting option that pairs beautifully with a cup of tea or coffee. -- ingredients: ['Flour', 'Butter', 'Ginger', 'Sugar', 'Baking Powder', 'Eggs'] -- price: 3.5 -- rating: 4.5\",\n",
       " \"Chocolate syrup : Our rich chocolate syrup is perfect for drizzling over desserts or adding to your favorite beverages. Its velvety texture and intense chocolate flavor make it an essential topping for any sweet creation. -- ingredients: ['Sugar', 'Cocoa Powder', 'Water', 'Vanilla Extract'] -- price: 1.5 -- rating: 4.8\",\n",
       " \"Hazelnut syrup : Add a nutty flavor to your drinks with our hazelnut syrup, perfect for lattes and desserts. Its smooth sweetness enhances a variety of beverages, making it a must-have for coffee lovers. -- ingredients: ['Sugar', 'Water', 'Hazelnut Extract', 'Vanilla Extract'] -- price: 1.5 -- rating: 4.7\",\n",
       " \"Carmel syrup : Sweet and creamy, our caramel syrup is ideal for topping your drinks and desserts with a rich caramel flavor. This versatile syrup elevates everything from coffee to ice cream, providing a luscious touch. -- ingredients: ['Sugar', 'Water', 'Cream', 'Butter', 'Vanilla Extract'] -- price: 1.5 -- rating: 4.9\",\n",
       " \"Sugar Free Vanilla syrup : Enjoy the sweet flavor of vanilla without the sugar, making it perfect for your coffee or dessert. This syrup offers a guilt-free way to enhance your beverages, ensuring you never miss out on flavor. -- ingredients: ['Water', 'Natural Flavors', 'Sucralose'] -- price: 1.5 -- rating: 4.4\",\n",
       " \"Coffee shop Merry's Way about section: Welcome to Merry's Way Coffee, your neighborhood coffee shop located in the heart of Greenwich Village, New York City. At Merry's Way, we believe that coffee is more than just a drink—it’s an experience, a moment of joy, and a way to connect with others.\\n\\nOur Story\\nFounded in 2015, Merry’s Way started as a small family-owned café with one mission: to share the love of quality, ethically-sourced coffee with our community.\\n\\nMerry's passion for travel and coffee led her on a journey across South America, where she handpicked partnerships with small farms and cooperatives. We ensure that every cup we brew tells a story of dedication and care, from farm to table. Our beans are roasted in-house to bring out unique flavors that reflect the regions where they were grown.\\n\\nDelivery & Locations Served\\nIn addition to offering a cozy place to enjoy coffee in our café, we proudly deliver to Greenwich Village, SoHo, West Village, and Lower Manhattan. Whether you’re at home, in the office, or enjoying a day at Washington Square Park, we bring your favorite coffee right to your door. Just a click away, our delivery service ensures that you never miss your daily cup, no matter where you are.\\n\\nOur Menu\\nOur menu offers something for everyone, from our signature espresso blends to refreshing cold brews, artisanal teas, and fresh-baked goods sourced from local bakeries. We also cater to a variety of dietary needs with a range of plant-based milk options and gluten-free snacks.\\n\\nCommunity & Sustainability\\nAt Merry's Way, we are more than just coffee. We are part of the community, and we care deeply about sustainability. We use eco-friendly packaging, work with local farmers, and strive to minimize our carbon footprint. Our café regularly hosts events, such as live music nights, art showcases, and community fundraisers, making it a hub for creativity and connection.\\n\\nWorking Hours\\nWe're open every day to make sure you can get your coffee whenever you need it:\\n\\nMonday to Friday: 7 AM – 8 PM\\nSaturday: 8 AM – 8 PM\\nSunday: 8 AM – 6 PM\\nWhether you’re grabbing a coffee on the go or staying to enjoy the warm, inviting atmosphere of our café, Merry’s Way is your destination for coffee done right.\\n\\nStop by today or order online—we can’t wait to serve you!\",\n",
       " 'Menu Items: Menu Items\\n\\nCappuccino - $4.50\\nJumbo Savory Scone - $3.25\\nLatte - $4.75\\nChocolate Chip Biscotti - $2.50\\nEspresso shot - $2.00\\nHazelnut Biscotti - $2.75\\nChocolate Croissant - $3.75\\nDark chocolate (Drinking Chocolate) - $5.00\\nCranberry Scone - $3.50\\nCroissant - $3.25\\nAlmond Croissant - $4.00\\nGinger Biscotti - $2.50\\nOatmeal Scone - $3.25\\nGinger Scone - $3.50\\nChocolate syrup - $1.50\\nHazelnut syrup - $1.50\\nCarmel syrup - $1.50\\nSugar Free Vanilla syrup - $1.50\\nDark chocolate (Packaged Chocolate) - $3.00']"
      ]
     },
     "execution_count": 100,
     "metadata": {},
     "output_type": "execute_result"
    }
   ],
   "source": [
    "texts"
   ]
  },
  {
   "cell_type": "markdown",
   "id": "ffe75635",
   "metadata": {},
   "source": [
    "# Generating Embeddings"
   ]
  },
  {
   "cell_type": "code",
   "execution_count": 101,
   "id": "18ca0ad8",
   "metadata": {},
   "outputs": [],
   "source": [
    "embeddings = model.encode(texts).tolist()"
   ]
  },
  {
   "cell_type": "code",
   "execution_count": 102,
   "id": "89687557",
   "metadata": {},
   "outputs": [
    {
     "data": {
      "text/plain": [
       "[0.03352544456720352,\n",
       " -0.057899560779333115,\n",
       " -0.0017868939321488142,\n",
       " 0.05488213151693344,\n",
       " 0.05808444693684578,\n",
       " -0.000260431959759444,\n",
       " 0.01678721234202385,\n",
       " 0.042207978665828705,\n",
       " -0.022465772926807404,\n",
       " -0.0008331801509484649,\n",
       " -0.00828015711158514,\n",
       " -0.0929771363735199,\n",
       " -0.014481251128017902,\n",
       " -0.01984688639640808,\n",
       " -0.015685463324189186,\n",
       " -0.07400842010974884,\n",
       " 0.026576487347483635,\n",
       " -0.002823738381266594,\n",
       " 0.0970730185508728,\n",
       " 0.0202372707426548,\n",
       " 0.006772961933165789,\n",
       " -0.055288415402173996,\n",
       " 0.03207574412226677,\n",
       " 0.10568636655807495,\n",
       " 0.10774405300617218,\n",
       " 0.09208441525697708,\n",
       " 0.0501842126250267,\n",
       " 0.02534065954387188,\n",
       " -0.04620799049735069,\n",
       " -0.07177940756082535,\n",
       " -0.05219711363315582,\n",
       " -0.06340939551591873,\n",
       " 0.06747890263795853,\n",
       " -0.028087187558412552,\n",
       " -0.06899979710578918,\n",
       " 0.08348885923624039,\n",
       " 0.10179386287927628,\n",
       " -0.04042473062872887,\n",
       " 0.057865243405103683,\n",
       " 0.0008215632988139987,\n",
       " -0.010293971747159958,\n",
       " 0.037107039242982864,\n",
       " 0.09358837455511093,\n",
       " 0.02118055708706379,\n",
       " 0.07276517897844315,\n",
       " 0.025567853823304176,\n",
       " -0.04427025094628334,\n",
       " 0.014876740984618664,\n",
       " 0.009294056333601475,\n",
       " 0.05606658384203911,\n",
       " -0.07442384213209152,\n",
       " -0.11075633764266968,\n",
       " 0.010484302416443825,\n",
       " 0.04674694687128067,\n",
       " 0.018299231305718422,\n",
       " 0.042195290327072144,\n",
       " -0.04982776567339897,\n",
       " -0.017084909602999687,\n",
       " 0.049417879432439804,\n",
       " 0.12292933464050293,\n",
       " -0.04059766232967377,\n",
       " -0.06874823570251465,\n",
       " 0.05030691251158714,\n",
       " 0.06028743460774422,\n",
       " 0.0813944861292839,\n",
       " -0.022417712956666946,\n",
       " -0.055158741772174835,\n",
       " 0.04595442861318588,\n",
       " -0.01910059154033661,\n",
       " -0.016642693430185318,\n",
       " -0.013295690529048443,\n",
       " 0.040151726454496384,\n",
       " 0.07406269758939743,\n",
       " -0.003713874379172921,\n",
       " -0.09777171164751053,\n",
       " 0.028973199427127838,\n",
       " 0.01753232255578041,\n",
       " 0.008032388985157013,\n",
       " 0.059675853699445724,\n",
       " 0.15225070714950562,\n",
       " -0.003718644380569458,\n",
       " 0.015394003130495548,\n",
       " -0.02578289620578289,\n",
       " 0.022824352607131004,\n",
       " -0.0730033665895462,\n",
       " 0.004785953555256128,\n",
       " 0.04299500957131386,\n",
       " -0.06373664736747742,\n",
       " -0.018245603889226913,\n",
       " -0.008973964489996433,\n",
       " -0.019555939361453056,\n",
       " 0.023669058457016945,\n",
       " -0.04052780568599701,\n",
       " -0.06096621975302696,\n",
       " -0.004082581959664822,\n",
       " -0.0003154390724375844,\n",
       " -0.02097128890454769,\n",
       " 0.051411427557468414,\n",
       " 0.012060866691172123,\n",
       " -0.03220399469137192,\n",
       " -0.03093840554356575,\n",
       " 0.005213138181716204,\n",
       " -0.031232502311468124,\n",
       " -0.09139207005500793,\n",
       " 0.02925615757703781,\n",
       " -0.04099922254681587,\n",
       " 0.007468106225132942,\n",
       " -0.05502841994166374,\n",
       " 0.038049157708883286,\n",
       " 0.015792381018400192,\n",
       " -0.03498496115207672,\n",
       " -0.10690417885780334,\n",
       " -0.10436224937438965,\n",
       " -0.020932495594024658,\n",
       " 0.010975915938615799,\n",
       " 0.04289378598332405,\n",
       " 0.03096453845500946,\n",
       " -0.05946538224816322,\n",
       " -0.0993729829788208,\n",
       " -0.018029849976301193,\n",
       " -0.03916367143392563,\n",
       " -0.09101521968841553,\n",
       " 0.03072001226246357,\n",
       " -0.09615791589021683,\n",
       " -0.04514539986848831,\n",
       " -0.03327534720301628,\n",
       " 0.05466606840491295,\n",
       " -1.5561329673542275e-34,\n",
       " -0.012636317871510983,\n",
       " -0.02435404807329178,\n",
       " 0.003565617138519883,\n",
       " 0.02502410300076008,\n",
       " 0.11391957849264145,\n",
       " 0.041191790252923965,\n",
       " -0.019781650975346565,\n",
       " -0.013595987111330032,\n",
       " -0.11299270391464233,\n",
       " 0.008151699788868427,\n",
       " -0.017598658800125122,\n",
       " 0.038409072905778885,\n",
       " -0.019092217087745667,\n",
       " 0.07632437348365784,\n",
       " 0.04274686798453331,\n",
       " -0.08315975219011307,\n",
       " 0.020072536543011665,\n",
       " 0.032305385917425156,\n",
       " -0.02050062268972397,\n",
       " -0.0881161093711853,\n",
       " 0.031211460009217262,\n",
       " 0.08182205259799957,\n",
       " 0.003348860191181302,\n",
       " 0.02982999198138714,\n",
       " -0.03936644271016121,\n",
       " 0.042846355587244034,\n",
       " -0.09593836963176727,\n",
       " -0.051051974296569824,\n",
       " 0.0053578331135213375,\n",
       " 0.010317769832909107,\n",
       " -0.019715692847967148,\n",
       " 0.08683662861585617,\n",
       " -0.09306631237268448,\n",
       " 0.04962163046002388,\n",
       " -0.0394873172044754,\n",
       " -0.09547370672225952,\n",
       " -0.07715949416160583,\n",
       " -0.04021765664219856,\n",
       " 0.03144911676645279,\n",
       " 0.04305631294846535,\n",
       " -0.03679290786385536,\n",
       " 0.040425583720207214,\n",
       " -0.042873818427324295,\n",
       " 0.01172773726284504,\n",
       " -0.1027570366859436,\n",
       " -0.03445442020893097,\n",
       " 0.01208578422665596,\n",
       " -0.07090584933757782,\n",
       " 0.025421837344765663,\n",
       " -0.05715038999915123,\n",
       " -0.012787075713276863,\n",
       " 0.013133927248418331,\n",
       " -0.04547024890780449,\n",
       " -0.0011028916342183948,\n",
       " 0.029141569510102272,\n",
       " -0.028427984565496445,\n",
       " -0.0024672197178006172,\n",
       " 0.04350753873586655,\n",
       " 0.02303191088140011,\n",
       " -0.005860847886651754,\n",
       " 0.006071281619369984,\n",
       " 0.010380029678344727,\n",
       " -0.026883723214268684,\n",
       " -0.08114081621170044,\n",
       " -0.004251000005751848,\n",
       " 0.05338608846068382,\n",
       " 0.0056237149983644485,\n",
       " 0.03389110043644905,\n",
       " 0.13546541333198547,\n",
       " -0.003294503316283226,\n",
       " 0.07012103497982025,\n",
       " -0.03990129753947258,\n",
       " -0.0764443501830101,\n",
       " 0.03740762174129486,\n",
       " 0.003972900565713644,\n",
       " 0.02569001168012619,\n",
       " 0.04367983341217041,\n",
       " 0.01910524256527424,\n",
       " 0.013549537397921085,\n",
       " -0.032285094261169434,\n",
       " 0.005331943277269602,\n",
       " -0.028462298214435577,\n",
       " -0.03747168555855751,\n",
       " 0.04112102836370468,\n",
       " 0.03291415050625801,\n",
       " 0.03341786190867424,\n",
       " -0.06729300320148468,\n",
       " 0.05990450084209442,\n",
       " 0.04134567081928253,\n",
       " 0.04133567214012146,\n",
       " -0.08060204982757568,\n",
       " -0.019773824140429497,\n",
       " 0.025753410533070564,\n",
       " -0.01959938369691372,\n",
       " -0.05251600965857506,\n",
       " -1.3713135262410413e-33,\n",
       " 0.11248615384101868,\n",
       " -0.0746157318353653,\n",
       " -0.06854823976755142,\n",
       " -0.009165280498564243,\n",
       " -0.07206320017576218,\n",
       " -0.008460617624223232,\n",
       " -0.06825070828199387,\n",
       " -0.04913940280675888,\n",
       " 0.009937244467437267,\n",
       " -0.03134575113654137,\n",
       " -0.0015223192749544978,\n",
       " -0.07557594031095505,\n",
       " 0.07769910246133804,\n",
       " 0.09360390156507492,\n",
       " -0.0425519198179245,\n",
       " 0.073760487139225,\n",
       " 0.01580771617591381,\n",
       " 0.024150922894477844,\n",
       " -0.005763685330748558,\n",
       " -0.09716326743364334,\n",
       " 0.027911284938454628,\n",
       " 0.005523333325982094,\n",
       " 0.00297557539306581,\n",
       " -0.001993646379560232,\n",
       " 0.04640794172883034,\n",
       " 0.024000486359000206,\n",
       " -0.008888043463230133,\n",
       " -0.05950144678354263,\n",
       " -0.006374852266162634,\n",
       " 0.040239252150058746,\n",
       " -0.08521351218223572,\n",
       " -0.08541667461395264,\n",
       " 0.03237020596861839,\n",
       " -0.03539172187447548,\n",
       " -0.004106480162590742,\n",
       " 0.04197903349995613,\n",
       " 0.021558700129389763,\n",
       " -0.040522728115320206,\n",
       " 0.04218238964676857,\n",
       " 0.050796907395124435,\n",
       " 0.02130470983684063,\n",
       " 0.019434954971075058,\n",
       " 0.10450049489736557,\n",
       " -0.03225790336728096,\n",
       " 0.026960454881191254,\n",
       " -0.07630938291549683,\n",
       " -0.06403767317533493,\n",
       " -0.03537050634622574,\n",
       " -0.01284961961209774,\n",
       " 0.08035895973443985,\n",
       " 0.05415131151676178,\n",
       " -0.03150656819343567,\n",
       " -0.058478862047195435,\n",
       " 0.0022667567245662212,\n",
       " -0.06342526525259018,\n",
       " -0.04593721404671669,\n",
       " -0.06289681047201157,\n",
       " 0.0048191482201218605,\n",
       " -0.04024253413081169,\n",
       " -0.07786403596401215,\n",
       " -0.015569230541586876,\n",
       " -0.02236907370388508,\n",
       " -0.06166071444749832,\n",
       " -0.017233045771718025,\n",
       " 0.08181017637252808,\n",
       " 0.03501607105135918,\n",
       " -0.064087875187397,\n",
       " -0.06768409162759781,\n",
       " -0.004387408960610628,\n",
       " -0.04244604334235191,\n",
       " 0.07512561976909637,\n",
       " -0.0601787231862545,\n",
       " 0.0823172852396965,\n",
       " 0.08115878701210022,\n",
       " 0.07169671356678009,\n",
       " 0.021279891952872276,\n",
       " -0.02387220226228237,\n",
       " 0.0356111042201519,\n",
       " 0.051190149039030075,\n",
       " 0.06922765076160431,\n",
       " 0.05618651583790779,\n",
       " 0.05492071434855461,\n",
       " 0.009570096619427204,\n",
       " 0.050514161586761475,\n",
       " 0.004132118541747332,\n",
       " 0.006265006028115749,\n",
       " 0.056697964668273926,\n",
       " -0.0512859933078289,\n",
       " 0.0003469077928457409,\n",
       " 0.034206800162792206,\n",
       " 0.021421188488602638,\n",
       " -0.012874558568000793,\n",
       " -0.060287803411483765,\n",
       " 0.08643651008605957,\n",
       " 0.08296085149049759,\n",
       " -3.55798270845753e-08,\n",
       " 0.0004466864629648626,\n",
       " -0.0577121265232563,\n",
       " 0.009882545098662376,\n",
       " 0.08664895594120026,\n",
       " 0.07025956362485886,\n",
       " 0.020932981744408607,\n",
       " -0.06418286263942719,\n",
       " -0.09013015031814575,\n",
       " -0.02470419742166996,\n",
       " -0.02695382386445999,\n",
       " 0.02875804714858532,\n",
       " 0.08183487504720688,\n",
       " 0.012127667665481567,\n",
       " 0.016384584829211235,\n",
       " -0.014657191000878811,\n",
       " -0.0158227551728487,\n",
       " 0.025214729830622673,\n",
       " 0.0925920382142067,\n",
       " 0.017802374437451363,\n",
       " 0.07568430155515671,\n",
       " -0.05062399432063103,\n",
       " -0.0329267717897892,\n",
       " 0.03857703134417534,\n",
       " -0.02337419055402279,\n",
       " -0.0025625803973525763,\n",
       " 0.010801942087709904,\n",
       " -0.00097329803975299,\n",
       " 0.003234012285247445,\n",
       " -0.010358630679547787,\n",
       " -0.02616107650101185,\n",
       " -0.01840001903474331,\n",
       " -0.010410898365080357,\n",
       " -0.021268462762236595,\n",
       " -0.049909789115190506,\n",
       " -0.03985286131501198,\n",
       " 0.0468025878071785,\n",
       " -0.09750912338495255,\n",
       " -0.047495175153017044,\n",
       " -0.10072297602891922,\n",
       " 0.02147233486175537,\n",
       " 0.025844961404800415,\n",
       " -0.012451505288481712,\n",
       " 0.027064086869359016,\n",
       " -0.030887309461832047,\n",
       " -0.08829931169748306,\n",
       " 0.004740916192531586,\n",
       " 0.01206840481609106,\n",
       " -0.02532835118472576,\n",
       " -0.024126069620251656,\n",
       " 0.0723152607679367,\n",
       " -0.04013386368751526,\n",
       " -0.027789367362856865,\n",
       " 0.06949736177921295,\n",
       " 0.05064956471323967,\n",
       " 0.029052041471004486,\n",
       " -0.014390752650797367,\n",
       " 0.03885577991604805,\n",
       " -0.039978958666324615,\n",
       " -0.030211275443434715,\n",
       " 0.001674233702942729,\n",
       " 0.03361485153436661,\n",
       " 0.0593048557639122,\n",
       " 0.13426628708839417,\n",
       " -0.019692646339535713]"
      ]
     },
     "execution_count": 102,
     "metadata": {},
     "output_type": "execute_result"
    }
   ],
   "source": [
    "embeddings[0]"
   ]
  },
  {
   "cell_type": "markdown",
   "id": "beccd8fe",
   "metadata": {},
   "source": [
    "# Push data to Vector DB"
   ]
  },
  {
   "cell_type": "code",
   "execution_count": 104,
   "id": "82170a05",
   "metadata": {},
   "outputs": [],
   "source": [
    "pc.create_index(\n",
    "    name=index_name,\n",
    "    dimension=384,\n",
    "    metric=\"cosine\",\n",
    "    spec=ServerlessSpec(\n",
    "        cloud=\"aws\",\n",
    "        region=\"us-east-1\",\n",
    "    )\n",
    ")"
   ]
  },
  {
   "cell_type": "code",
   "execution_count": 105,
   "id": "26afe57e",
   "metadata": {},
   "outputs": [
    {
     "data": {
      "text/plain": [
       "{'upserted_count': 20}"
      ]
     },
     "execution_count": 105,
     "metadata": {},
     "output_type": "execute_result"
    }
   ],
   "source": [
    "# Wait for index to ready\n",
    "\n",
    "while not pc.describe_index(index_name).status['ready']:\n",
    "    time.sleep(1)\n",
    "\n",
    "index = pc.Index(index_name)\n",
    "\n",
    "vectors = []\n",
    "\n",
    "for text, e in zip(texts, embeddings):\n",
    "    entry_id = text.split(\":\")[0]\n",
    "    vectors.append({\n",
    "        \"id\": entry_id, \n",
    "        \"values\": e, \n",
    "        \"metadata\": {\"text\": text}\n",
    "    })\n",
    "\n",
    "index.upsert(vectors=vectors, namespace='ns1') "
   ]
  },
  {
   "cell_type": "markdown",
   "id": "ea3fec2a",
   "metadata": {},
   "source": [
    "# Get closest document"
   ]
  },
  {
   "cell_type": "code",
   "execution_count": 106,
   "id": "e3136ae7",
   "metadata": {},
   "outputs": [],
   "source": [
    "# embeddings = model.encode(\"How much is Cappuccino?\").tolist()\n",
    "\n",
    "embeddings = model.encode(\"Chocolate Biscuit available?\").tolist()"
   ]
  },
  {
   "cell_type": "code",
   "execution_count": null,
   "id": "cc7a681d",
   "metadata": {},
   "outputs": [],
   "source": [
    "results = index.query(\n",
    "    namespace='ns1',\n",
    "    vector=embeddings,\n",
    "    top_k=2,     # closest 2 results\n",
    "    include_values=False,\n",
    "    include_metadata=True\n",
    ")"
   ]
  },
  {
   "cell_type": "code",
   "execution_count": 112,
   "id": "e73ce697",
   "metadata": {},
   "outputs": [
    {
     "data": {
      "text/plain": [
       "{'matches': [{'id': 'Chocolate Chip Biscotti ',\n",
       "              'metadata': {'text': 'Chocolate Chip Biscotti : Crunchy and '\n",
       "                                   'delightful, this chocolate chip biscotti '\n",
       "                                   'is perfect for dipping in your coffee or '\n",
       "                                   'enjoying on its own. Each bite offers a '\n",
       "                                   'satisfying crunch and a burst of rich '\n",
       "                                   'chocolate, making it a favorite for any '\n",
       "                                   \"biscotti lover. -- ingredients: ['Flour', \"\n",
       "                                   \"'Sugar', 'Chocolate Chips', 'Eggs', \"\n",
       "                                   \"'Almonds', 'Baking Powder'] -- price: 2.5 \"\n",
       "                                   '-- rating: 4.6'},\n",
       "              'score': 0.641696036,\n",
       "              'values': []},\n",
       "             {'id': 'Menu Items',\n",
       "              'metadata': {'text': 'Menu Items: Menu Items\\n'\n",
       "                                   '\\n'\n",
       "                                   'Cappuccino - $4.50\\n'\n",
       "                                   'Jumbo Savory Scone - $3.25\\n'\n",
       "                                   'Latte - $4.75\\n'\n",
       "                                   'Chocolate Chip Biscotti - $2.50\\n'\n",
       "                                   'Espresso shot - $2.00\\n'\n",
       "                                   'Hazelnut Biscotti - $2.75\\n'\n",
       "                                   'Chocolate Croissant - $3.75\\n'\n",
       "                                   'Dark chocolate (Drinking Chocolate) - '\n",
       "                                   '$5.00\\n'\n",
       "                                   'Cranberry Scone - $3.50\\n'\n",
       "                                   'Croissant - $3.25\\n'\n",
       "                                   'Almond Croissant - $4.00\\n'\n",
       "                                   'Ginger Biscotti - $2.50\\n'\n",
       "                                   'Oatmeal Scone - $3.25\\n'\n",
       "                                   'Ginger Scone - $3.50\\n'\n",
       "                                   'Chocolate syrup - $1.50\\n'\n",
       "                                   'Hazelnut syrup - $1.50\\n'\n",
       "                                   'Carmel syrup - $1.50\\n'\n",
       "                                   'Sugar Free Vanilla syrup - $1.50\\n'\n",
       "                                   'Dark chocolate (Packaged Chocolate) - '\n",
       "                                   '$3.00'},\n",
       "              'score': 0.540581763,\n",
       "              'values': []}],\n",
       " 'namespace': 'ns1',\n",
       " 'usage': {'read_units': 1}}"
      ]
     },
     "execution_count": 112,
     "metadata": {},
     "output_type": "execute_result"
    }
   ],
   "source": [
    "results"
   ]
  }
 ],
 "metadata": {
  "kernelspec": {
   "display_name": "pytorch_env",
   "language": "python",
   "name": "python3"
  },
  "language_info": {
   "codemirror_mode": {
    "name": "ipython",
    "version": 3
   },
   "file_extension": ".py",
   "mimetype": "text/x-python",
   "name": "python",
   "nbconvert_exporter": "python",
   "pygments_lexer": "ipython3",
   "version": "3.10.18"
  }
 },
 "nbformat": 4,
 "nbformat_minor": 5
}
